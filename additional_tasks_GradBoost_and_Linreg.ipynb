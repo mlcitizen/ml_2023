{
  "cells": [
    {
      "cell_type": "code",
      "execution_count": 4,
      "id": "03a777de",
      "metadata": {
        "id": "03a777de"
      },
      "outputs": [],
      "source": [
        "import numpy as np"
      ]
    },
    {
      "cell_type": "markdown",
      "id": "ee5632f1",
      "metadata": {
        "id": "ee5632f1"
      },
      "source": [
        "## Задача 1: \n",
        "Написать свой класс линейной регрессии. Должны быть реализованы методы fit() и predict(). Из сторонних библиотек можно использовать только numpy и pandas. Если у вас есть аргумент для использования дополнительных библиотек, то напишите в личные сообщения, обсудим. Модель должна уметь работать с любым количеством признаков. \n",
        "\n",
        "Максимум за задачу можно получить 4 балла"
      ]
    },
    {
      "cell_type": "code",
      "execution_count": 1,
      "id": "0681a495",
      "metadata": {
        "id": "0681a495"
      },
      "outputs": [],
      "source": [
        "class CustomLinReg():\n",
        "    def __init__(self):\n",
        "        super(CustomLinReg, self).__init__()\n",
        "        self.weights = None\n",
        "    \n",
        "    def fit(self, X, y, lr = 1e-2, n_iter = 2500):\n",
        "        '''\n",
        "        Fit weights of linear regression using simple gradient descent\n",
        "        \n",
        "        :param X: numpy array of shape (N, n_features) where N - number of examples\n",
        "        :param y: numpy array of shape (N)\n",
        "        :param lr: learning rate of gradient descent\n",
        "        :param n_iter: maximum number of iterations in gradient descent\n",
        "        '''\n",
        "        \n",
        "        if X.shape[0] != y.shape[0]:\n",
        "            raise Exception(f\"Number of examples inconsistent. Found {X.shape[0]} in features and {y.shape[0]} in target\")\n",
        "        \n",
        "        N = X.shape[0]\n",
        "        X = self.add_constant(X)\n",
        "        self.weights = np.random.randn(X.shape[1])*0\n",
        "        \n",
        "        for i in range(n_iter):\n",
        "            pred = np.dot(X, self.weights)\n",
        "            self.weights -= lr*(2./N)*np.dot(pred - y, X)\n",
        "    \n",
        "    def predict(self, X):\n",
        "        '''\n",
        "        Fit weights of linear regression using simple gradient descent\n",
        "        \n",
        "        :param X: numpy array of shape (N, n_features)\n",
        "        '''\n",
        "        if self.weights is None:\n",
        "            raise Exception(\"Weights are not initialized yet! You should first train model\")\n",
        "        if len(self.weights) - 1 != X.shape[1]:\n",
        "            raise Exception(f\"Number of features inconsistent. {len(self.weights) - 1} expected, but given {X.shape[1]}\")\n",
        "        \n",
        "        X = self.add_constant(X)\n",
        "        res = np.dot(X, self.weights)\n",
        "        \n",
        "        return res\n",
        "        \n",
        "    @staticmethod\n",
        "    def add_constant(X):\n",
        "        '''\n",
        "        Adds column of ones to input matrix in order to consider bias in linear regression naturally\n",
        "        '''\n",
        "        N = X.shape[0]\n",
        "        X = np.hstack((np.ones((N, 1), dtype=X.dtype), X))\n",
        "        return X"
      ]
    },
    {
      "cell_type": "code",
      "execution_count": 2,
      "id": "afd49e86",
      "metadata": {
        "id": "afd49e86"
      },
      "outputs": [],
      "source": [
        "from sklearn.datasets import make_regression\n",
        "from sklearn.linear_model import Ridge\n",
        "from sklearn.model_selection import train_test_split\n",
        "from sklearn.metrics import mean_squared_error, mean_absolute_error\n",
        "\n",
        "def test_model(model, n_datasets, model_name, random_seed = 10):\n",
        "    np.random.seed(random_seed)\n",
        "    \n",
        "    mse = []\n",
        "    mae = []\n",
        "    \n",
        "    for i in range(n_datasets):\n",
        "        X, y = make_regression(n_samples=100, n_features=20, n_informative=20, noise = 1, n_targets=1)\n",
        "        X_train, X_test, y_train, y_test = train_test_split(X, y, test_size = 0.5)\n",
        "        \n",
        "        model.fit(X_train, y_train)\n",
        "        mse.append(mean_squared_error(y_test, model.predict(X_test)))\n",
        "        mae.append(mean_absolute_error(y_test, model.predict(X_test)))\n",
        "    \n",
        "    return f\"{model_name} results | MSE {np.mean(mse)} | MAE {np.mean(mae)}\""
      ]
    },
    {
      "cell_type": "markdown",
      "id": "a7384aca",
      "metadata": {
        "id": "a7384aca"
      },
      "source": [
        "Модель работает с любым числом признаков"
      ]
    },
    {
      "cell_type": "code",
      "execution_count": 5,
      "id": "63bcde1f",
      "metadata": {
        "colab": {
          "base_uri": "https://localhost:8080/"
        },
        "id": "63bcde1f",
        "outputId": "4a11dd6f-b080-4d4e-f278-a551aa734b68"
      },
      "outputs": [
        {
          "output_type": "stream",
          "name": "stdout",
          "text": [
            "Cusom modem results with 5 features | MSE 23.487104269165524 | MAE 4.0816901051491286\n",
            "Cusom modem results with 105 features | MSE 245552.79113626768 | MAE 402.2758054774078\n",
            "Cusom modem results with 205 features | MSE 733268.0543175968 | MAE 698.1418392473225\n",
            "Cusom modem results with 305 features | MSE 815144.9521559397 | MAE 779.8858324122702\n",
            "Cusom modem results with 405 features | MSE 1515628.3912702897 | MAE 997.5360731067399\n",
            "Cusom modem results with 505 features | MSE 1706250.0811866352 | MAE 998.0170538069812\n",
            "Cusom modem results with 605 features | MSE 2418137.042366232 | MAE 1177.906502744009\n",
            "Cusom modem results with 705 features | MSE 1535499.2712954774 | MAE 1052.0936674343159\n",
            "Cusom modem results with 805 features | MSE 2059625.657539046 | MAE 1201.486759702103\n",
            "Cusom modem results with 905 features | MSE 3044070.918086831 | MAE 1431.782293933134\n"
          ]
        }
      ],
      "source": [
        "for i in np.arange(5, 1005, 100):\n",
        "    model = CustomLinReg()\n",
        "    X, y = make_regression(n_samples=100, n_features=i, n_informative=i, noise = 1, n_targets=1)\n",
        "    X_train, X_test, y_train, y_test = train_test_split(X, y, test_size = 0.5)\n",
        "    model.fit(X_train, y_train, n_iter = 50*i)\n",
        "    \n",
        "    mse = mean_squared_error(y_test, model.predict(X_test))\n",
        "    mae = mean_absolute_error(y_test, model.predict(X_test))\n",
        "    print(f\"Cusom modem results with {i} features | MSE {np.mean(mse)} | MAE {np.mean(mae)}\")"
      ]
    },
    {
      "cell_type": "markdown",
      "id": "37ef4abc",
      "metadata": {
        "id": "37ef4abc"
      },
      "source": [
        "Сравнение с моделью из sklearn"
      ]
    },
    {
      "cell_type": "code",
      "execution_count": 6,
      "id": "46f21fd6",
      "metadata": {
        "colab": {
          "base_uri": "https://localhost:8080/"
        },
        "id": "46f21fd6",
        "outputId": "ff64d4a5-99f3-4f4a-9ac7-343c5f043428"
      },
      "outputs": [
        {
          "output_type": "stream",
          "name": "stdout",
          "text": [
            "Custom model results | MSE 1.6763763925396886 | MAE 1.0233485339170696\n",
            "Sklearn model results | MSE 124.10722748301382 | MAE 8.538122376473087\n"
          ]
        }
      ],
      "source": [
        "print(test_model(CustomLinReg(), n_datasets = 25, model_name = \"Custom model\"))\n",
        "print(test_model(Ridge(), n_datasets = 25, model_name = \"Sklearn model\"))"
      ]
    },
    {
      "cell_type": "markdown",
      "id": "0a2bfbb2",
      "metadata": {
        "id": "0a2bfbb2"
      },
      "source": [
        "## Задача 2: \n",
        "Написать свой класс градиентного бустинга для задачи регрессии. Должны быть реализованы методы fit() и predict(). Из сторонних библиотек можно использовать только numpy и pandas. Если у вас есть аргумент для использования дополнительных библиотек, то напишите в личные сообщения, обсудим. Модель должна уметь работать с любым количеством признаков. \n",
        "\n",
        "Максимум за задачу можно получить 4 балла. 2 балла можно получить если реализовать только класс решающего дерева."
      ]
    },
    {
      "cell_type": "code",
      "execution_count": 7,
      "id": "f7250dd9",
      "metadata": {
        "id": "f7250dd9"
      },
      "outputs": [],
      "source": [
        "class DecisionTree():\n",
        "    def __init__(self, max_depth = 3):\n",
        "        super(DecisionTree, self).__init__()\n",
        "        \n",
        "        self.max_depth = max_depth\n",
        "        \n",
        "        self.tree = None\n",
        "    \n",
        "    def fit(self, X, y):\n",
        "        '''\n",
        "        Fit structure of decision tree\n",
        "        \n",
        "        :param X: numpy array of shape (N, n_features) where N - number of examples\n",
        "        :param y: numpy array of shape (N)\n",
        "        '''\n",
        "        if X.shape[0] != y.shape[0]:\n",
        "            raise Exception(f\"Number of examples inconsistent. Found {X.shape[0]} in features and {y.shape[0]} in target\")\n",
        "        \n",
        "        self.tree = self.grow_tree(X, y)\n",
        "        \n",
        "    \n",
        "    def grow_tree(self, X, y, depth = 0):\n",
        "        \n",
        "        if (depth >= self.max_depth) or (X.shape[0] <= 2):\n",
        "            node = {\n",
        "                \"right\": None,\n",
        "                \"left\": None,\n",
        "                \"val\": np.mean(y),\n",
        "                \"feature\": None,\n",
        "                \"threshold\": None,\n",
        "                \"impurity\": None\n",
        "            }\n",
        "            return node\n",
        "        \n",
        "        split_num, split_val, max_impurity = self.split_node(X, y)\n",
        "        \n",
        "        node = {\n",
        "            \"right\": self.grow_tree(X[X[:, split_num] < split_val],\n",
        "                                    y[X[:, split_num] < split_val], \n",
        "                                    depth + 1),\n",
        "            \"left\": self.grow_tree(X[X[:, split_num] >= split_val],\n",
        "                                   y[X[:, split_num] >= split_val],\n",
        "                                   depth + 1),\n",
        "            \"val\": np.mean(y),\n",
        "            \"feature\": split_num,\n",
        "            \"threshold\": split_val,\n",
        "            \"impurity\": max_impurity\n",
        "        }\n",
        "        \n",
        "        return node\n",
        "    \n",
        "    def split_node(self, X, y):\n",
        "        '''\n",
        "        :param X: numpy array of shape (N, n_features) where N - number of examples\n",
        "        :param y: numpy array of shape (N)\n",
        "        '''\n",
        "        \n",
        "        max_impurity = -1\n",
        "        \n",
        "        for feature_num in range(X.shape[1]):\n",
        "            feature_imp, feature_split_val = self.feature_impurity(X[:, feature_num], y)\n",
        "            if feature_imp >= max_impurity:\n",
        "                max_impurity, split_num, split_val = feature_imp, feature_num, feature_split_val\n",
        "        \n",
        "        return split_num, split_val, max_impurity\n",
        "            \n",
        "    \n",
        "    @staticmethod\n",
        "    def feature_impurity(X, y):\n",
        "        '''\n",
        "        :param X: numpy array of shape (N) where N - number of examples\n",
        "        :param y: numpy array of shape (N)\n",
        "        '''\n",
        "        X = -np.sort(np.unique(-X))\n",
        "\n",
        "        max_impurity, split_val = -1, X[0]\n",
        "        for val in X[1: -1]:\n",
        "            split1, split2 = y[X < val], y[X >= val]\n",
        "            \n",
        "            w1, w2 = len(split1)/len(y), len(split2)/len(y)\n",
        "            \n",
        "            impurity_before = np.sum(np.square(np.expand_dims(y, 0) - np.expand_dims(y, 1)))/(len(y)*len(y))\n",
        "            impurity_split1 = np.sum(np.square(np.expand_dims(split1, 0) - np.expand_dims(split1, 1)))/(len(split1)*len(split1))\n",
        "            impurity_split2 = np.sum(np.square(np.expand_dims(split2, 0) - np.expand_dims(split2, 1)))/(len(split2)*len(split2))\n",
        "            \n",
        "            impurity = impurity_before - (w1*impurity_split1 + w2*impurity_split2)\n",
        "            \n",
        "            if impurity > max_impurity:\n",
        "                split_val, max_impurity = val, impurity\n",
        "        \n",
        "        return max_impurity, split_val\n",
        "    \n",
        "    def predict_one(self, x):\n",
        "        curr = self.tree\n",
        "        \n",
        "        while True:\n",
        "            if curr[\"left\"] is None:\n",
        "                return curr[\"val\"]\n",
        "            \n",
        "            if x[curr[\"feature\"]] < curr[\"threshold\"]:\n",
        "                curr = curr[\"right\"]\n",
        "            else:\n",
        "                curr = curr[\"left\"]\n",
        "    \n",
        "    def predict(self, X):\n",
        "        '''\n",
        "        :param X: numpy array of shape (N, n_features)\n",
        "        '''\n",
        "        \n",
        "        res = []\n",
        "        for i in range(X.shape[0]):\n",
        "            res.append(self.predict_one(X[i, :]))\n",
        "            \n",
        "        return np.array(res)"
      ]
    },
    {
      "cell_type": "markdown",
      "id": "07838ddc",
      "metadata": {
        "id": "07838ddc"
      },
      "source": [
        "Дерево работает"
      ]
    },
    {
      "cell_type": "code",
      "execution_count": 8,
      "id": "39087fa7",
      "metadata": {
        "colab": {
          "base_uri": "https://localhost:8080/",
          "height": 451
        },
        "id": "39087fa7",
        "outputId": "8dd7ba4b-c8a2-4992-89ca-cf438f14c2c6"
      },
      "outputs": [
        {
          "output_type": "execute_result",
          "data": {
            "text/plain": [
              "<matplotlib.legend.Legend at 0x7ffa16fd3bb0>"
            ]
          },
          "metadata": {},
          "execution_count": 8
        },
        {
          "output_type": "display_data",
          "data": {
            "text/plain": [
              "<Figure size 640x480 with 1 Axes>"
            ],
            "image/png": "[encoded data removed]"
          },
          "metadata": {}
        }
      ],
      "source": [
        "import matplotlib.pyplot as plt\n",
        "\n",
        "np.random.seed(25)\n",
        "\n",
        "X, y = make_regression(n_samples=100, n_features=1, n_informative=20, noise = 5, n_targets=1)\n",
        "\n",
        "model = DecisionTree(max_depth = 10)\n",
        "\n",
        "model.fit(X, y)\n",
        "\n",
        "X1 = np.expand_dims(np.arange(min(X), max(X), 0.1), 1)\n",
        "y1 = model.predict(X1)\n",
        "\n",
        "plt.plot(X1, y1, label = \"Tree prediction\")\n",
        "plt.scatter(X, y, color = \"g\", alpha = 0.1, label = \"True value\")\n",
        "plt.legend()"
      ]
    },
    {
      "cell_type": "markdown",
      "id": "baa74882",
      "metadata": {
        "id": "baa74882"
      },
      "source": [
        "Тестирование работоспособности отдельного дерева (оно переобучается с ростом глубины, что объясняет падение качества)"
      ]
    },
    {
      "cell_type": "code",
      "execution_count": 9,
      "id": "1e1dffcb",
      "metadata": {
        "colab": {
          "base_uri": "https://localhost:8080/"
        },
        "id": "1e1dffcb",
        "outputId": "cdfc0d5d-b384-497d-8779-c4fcb82ae041"
      },
      "outputs": [
        {
          "output_type": "stream",
          "name": "stdout",
          "text": [
            "Tree depth 3 results | MSE 75405.3445698485 | MAE 225.44080806894098\n",
            "Tree depth 7 results | MSE 100409.07418133462 | MAE 252.98863056310228\n",
            "Tree depth 12 results | MSE 110038.46431118282 | MAE 265.16658125538004\n",
            "Tree depth 20 results | MSE 112537.34824771163 | MAE 266.2279889472148\n",
            "Tree depth 40 results | MSE 112638.20958961947 | MAE 266.5135889564459\n"
          ]
        }
      ],
      "source": [
        "print(test_model(DecisionTree(max_depth = 3), n_datasets = 10, model_name = \"Tree depth 3\"))\n",
        "print(test_model(DecisionTree(max_depth = 7), n_datasets = 10, model_name = \"Tree depth 7\"))\n",
        "print(test_model(DecisionTree(max_depth = 12), n_datasets = 10, model_name = \"Tree depth 12\"))\n",
        "print(test_model(DecisionTree(max_depth = 20), n_datasets = 10, model_name = \"Tree depth 20\"))\n",
        "print(test_model(DecisionTree(max_depth = 40), n_datasets = 10, model_name = \"Tree depth 40\"))"
      ]
    },
    {
      "cell_type": "code",
      "execution_count": 10,
      "id": "caca77e3",
      "metadata": {
        "id": "caca77e3"
      },
      "outputs": [],
      "source": [
        "from copy import deepcopy\n",
        "\n",
        "class GradientBoosting():\n",
        "    def __init__(self, num_trees = 10, lr = 0.1, max_depth = 3):\n",
        "        super(GradientBoosting, self).__init__()\n",
        "        \n",
        "        self.max_depth = max_depth\n",
        "        self.num_trees = num_trees\n",
        "        self.curr_num = 0\n",
        "        self.lr = lr\n",
        "        \n",
        "        self.init_val = None\n",
        "        self.tree_models = [DecisionTree(max_depth = self.max_depth) for _ in range(num_trees)]\n",
        "    \n",
        "    def fit(self, X, y):\n",
        "        '''\n",
        "        Fit gradient boosting on decision trees based on l2 loss\n",
        "        \n",
        "        :param X: numpy array of shape (N, n_features) where N - number of examples\n",
        "        :param y: numpy array of shape (N)\n",
        "        '''\n",
        "        \n",
        "        self.init_val = np.mean(y)\n",
        "        \n",
        "        for i in range(self.num_trees):\n",
        "            \n",
        "            # train model on residuals of previous ensemble\n",
        "            y1 = (y - self.predict(X))\n",
        "            self.tree_models[i].fit(X, y1)\n",
        "            \n",
        "            # Optimize new model further\n",
        "            self.tree_models[i] = self.optimize_coef(X, y, self.tree_models[i])\n",
        "            \n",
        "            self.curr_num += 1\n",
        "            \n",
        "            \n",
        "    def optimize_coef(self, X, y, model):\n",
        "        '''\n",
        "        Correct values in leafs of trees in boosting, minimizing l2 loss.\n",
        "        '''\n",
        "        \n",
        "        stack = [(model.tree, X.copy(), y.copy())]\n",
        "        while len(stack) > 0:\n",
        "            tree, X_slice, y_slice = stack.pop()\n",
        "            if tree[\"left\"] is None:\n",
        "                # optimal value\n",
        "                tree[\"val\"] = np.mean(y_slice - self.predict(X_slice))\n",
        "                continue\n",
        "            \n",
        "            f_num, threshold = tree[\"feature\"], tree[\"threshold\"]\n",
        "            \n",
        "            stack.append((tree[\"right\"], X_slice[X_slice[:, f_num] < threshold], y_slice[X_slice[:, f_num] < threshold]))\n",
        "            stack.append((tree[\"left\"], X_slice[X_slice[:, f_num] >= threshold], y_slice[X_slice[:, f_num] >= threshold]))\n",
        "        \n",
        "        return model\n",
        "            \n",
        "        \n",
        "    def predict(self, X):\n",
        "        \n",
        "        if self.init_val is None:\n",
        "            raise Exception(\"Parameters are not initialized yet! You should first train model\")\n",
        "        \n",
        "        val = self.init_val\n",
        "        \n",
        "        for model in self.tree_models[0:self.curr_num]:\n",
        "            val += self.lr*model.predict(X)\n",
        "        \n",
        "        return val\n",
        "        "
      ]
    },
    {
      "cell_type": "markdown",
      "id": "f71bc267",
      "metadata": {
        "id": "f71bc267"
      },
      "source": [
        "Тестирование бустинга"
      ]
    },
    {
      "cell_type": "code",
      "execution_count": 11,
      "id": "69c52e76",
      "metadata": {
        "colab": {
          "base_uri": "https://localhost:8080/",
          "height": 451
        },
        "id": "69c52e76",
        "outputId": "1532f7b1-68ec-4060-e62c-8cf09a6ecaa9"
      },
      "outputs": [
        {
          "output_type": "execute_result",
          "data": {
            "text/plain": [
              "<matplotlib.legend.Legend at 0x7ffa12cfe1a0>"
            ]
          },
          "metadata": {},
          "execution_count": 11
        },
        {
          "output_type": "display_data",
          "data": {
            "text/plain": [
              "<Figure size 640x480 with 1 Axes>"
            ],
            "image/png": "[encoded data removed]"
          },
          "metadata": {}
        }
      ],
      "source": [
        "import matplotlib.pyplot as plt\n",
        "\n",
        "np.random.seed(25)\n",
        "\n",
        "X, y = make_regression(n_samples=100, n_features=1, n_informative=20, noise = 5, n_targets=1)\n",
        "\n",
        "model = GradientBoosting(num_trees = 300)\n",
        "\n",
        "model.fit(X, y)\n",
        "\n",
        "X1 = np.expand_dims(np.arange(min(X), max(X), 0.1), 1)\n",
        "y1 = model.predict(X1)\n",
        "\n",
        "plt.plot(X1, y1, label = \"Boosting prediction\")\n",
        "plt.scatter(X, y, color = \"g\", alpha = 0.1, label = \"true\")\n",
        "plt.legend()"
      ]
    },
    {
      "cell_type": "code",
      "execution_count": 12,
      "id": "37140a1d",
      "metadata": {
        "colab": {
          "base_uri": "https://localhost:8080/"
        },
        "id": "37140a1d",
        "outputId": "9e83840c-671d-4005-ba29-ff204e4f776b"
      },
      "outputs": [
        {
          "output_type": "stream",
          "name": "stdout",
          "text": [
            "Boosing on 10 stumps results | MSE 70483.09570576012 | MAE 219.00803288061243\n",
            "Boosing on 100 stumps results | MSE 78039.91954359702 | MAE 229.73309538217512\n",
            "Boosing on 300 stumps results | MSE 78066.34250261328 | MAE 229.77882723766896\n"
          ]
        }
      ],
      "source": [
        "print(test_model(GradientBoosting(num_trees = 10), n_datasets = 5, model_name = \"Boosing on 10 stumps\"))\n",
        "print(test_model(GradientBoosting(num_trees = 100), n_datasets = 5, model_name = \"Boosing on 100 stumps\"))\n",
        "print(test_model(GradientBoosting(num_trees = 300), n_datasets = 5, model_name = \"Boosing on 300 stumps\"))"
      ]
    },
    {
      "cell_type": "code",
      "execution_count": 13,
      "id": "871d615a",
      "metadata": {
        "colab": {
          "base_uri": "https://localhost:8080/"
        },
        "id": "871d615a",
        "outputId": "71065d64-8bb2-4b4f-de07-0600f6de71da"
      },
      "outputs": [
        {
          "output_type": "stream",
          "name": "stdout",
          "text": [
            "Boosing on 10 stumps results | MSE 52030.18534641347 | MAE 180.22495547245902\n",
            "Boosing on 50 stumps results | MSE 47236.14222650529 | MAE 172.33142437433042\n",
            "Boosing on 100 stumps results | MSE 62928.191845022746 | MAE 196.9375693320929\n"
          ]
        }
      ],
      "source": [
        "from sklearn.ensemble import GradientBoostingRegressor\n",
        "\n",
        "print(test_model(GradientBoostingRegressor(n_estimators = 10), n_datasets = 5, model_name = \"Boosing on 10 stumps\"))\n",
        "print(test_model(GradientBoostingRegressor(n_estimators = 100), n_datasets = 5, model_name = \"Boosing on 50 stumps\"))\n",
        "print(test_model(GradientBoostingRegressor(n_estimators = 300), n_datasets = 5, model_name = \"Boosing on 100 stumps\"))"
      ]
    },
    {
      "cell_type": "markdown",
      "id": "e2ba0893",
      "metadata": {
        "id": "e2ba0893"
      },
      "source": [
        "Результаты примерно сравнимы. То, что кастомная модель хуже, объясняется, вероятно, более сложным алгоритмом подбора структуры деревьев в градиентном бустинге из sklearn."
      ]
    },
    {
      "cell_type": "code",
      "execution_count": null,
      "id": "bf3d96d1",
      "metadata": {
        "id": "bf3d96d1"
      },
      "outputs": [],
      "source": []
    }
  ],
  "metadata": {
    "kernelspec": {
      "display_name": "Python 3 (ipykernel)",
      "language": "python",
      "name": "python3"
    },
    "language_info": {
      "codemirror_mode": {
        "name": "ipython",
        "version": 3
      },
      "file_extension": ".py",
      "mimetype": "text/x-python",
      "name": "python",
      "nbconvert_exporter": "python",
      "pygments_lexer": "ipython3",
      "version": "3.7.6"
    },
    "colab": {
      "provenance": []
    }
  },
  "nbformat": 4,
  "nbformat_minor": 5
}